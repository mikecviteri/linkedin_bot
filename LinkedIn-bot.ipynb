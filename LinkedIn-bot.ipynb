{
 "cells": [
  {
   "cell_type": "markdown",
   "id": "designing-senator",
   "metadata": {},
   "source": [
    "# LinkedIn Scraper"
   ]
  },
  {
   "cell_type": "code",
   "execution_count": 151,
   "id": "acknowledged-single",
   "metadata": {},
   "outputs": [],
   "source": [
    "# Scraping\n",
    "from selenium import webdriver\n",
    "from selenium.webdriver.common.keys import Keys\n",
    "from selenium.webdriver.support import expected_conditions as EC\n",
    "from selenium.webdriver.common.by import By\n",
    "from selenium.webdriver.support.wait import WebDriverWait\n",
    "\n",
    "# Misc\n",
    "import time\n",
    "from random import randint\n",
    "from pathlib import Path\n",
    "\n",
    "# Other modules\n",
    "from secrets import u_name, pwd\n",
    "\n",
    "#CSV\n",
    "import pandas as pd\n",
    "from csv import writer, reader"
   ]
  },
  {
   "cell_type": "code",
   "execution_count": 145,
   "id": "promotional-flesh",
   "metadata": {},
   "outputs": [],
   "source": [
    "# Name of the .csv database\n",
    "database_name = 'linkedin_database_contacts'\n",
    "\n",
    "# Variable for not exceeding daily number of clicks\n",
    "clicks = 0"
   ]
  },
  {
   "cell_type": "code",
   "execution_count": 146,
   "id": "periodic-maine",
   "metadata": {},
   "outputs": [],
   "source": [
    "# Create file if it doesn't exist, otherwise do nothing\n",
    "file = Path(database_name+\".csv\")\n",
    "file.touch(exist_ok=True)"
   ]
  },
  {
   "cell_type": "code",
   "execution_count": 147,
   "id": "restricted-bacteria",
   "metadata": {},
   "outputs": [],
   "source": [
    "# Initialize webdriver\n",
    "driver = webdriver.Chrome('/usr/local/bin/chromedriver')\n",
    "driver.get('https://www.linkedin.com/login')"
   ]
  },
  {
   "cell_type": "code",
   "execution_count": 152,
   "id": "mineral-emission",
   "metadata": {},
   "outputs": [],
   "source": [
    "# Login\n",
    "time.sleep(randint(2,4))\n",
    "\n",
    "username = driver.find_element_by_xpath('//input[@name=\"session_key\"]')\n",
    "password = driver.find_element_by_xpath('//input[@name=\"session_password\"]')\n",
    "\n",
    "username.send_keys(u_name)\n",
    "password.send_keys(pwd)\n",
    "\n",
    "time.sleep(randint(2,4))\n",
    "\n",
    "submit = driver.find_element_by_xpath('//button[@type=\"submit\"]').click()\n",
    "time.sleep(randint(2,4))"
   ]
  },
  {
   "cell_type": "code",
   "execution_count": 153,
   "id": "modular-cache",
   "metadata": {},
   "outputs": [],
   "source": [
    "# 'My Network' button\n",
    "my_network = driver.find_element_by_xpath('//*[@data-link-to=\"mynetwork\"]').click()"
   ]
  },
  {
   "cell_type": "code",
   "execution_count": 154,
   "id": "renewable-pastor",
   "metadata": {},
   "outputs": [],
   "source": [
    "# 'Connections' button\n",
    "my_connections = driver.find_element_by_xpath('//div[@class=\"mn-community-summary__entity-info\"]').click()"
   ]
  },
  {
   "cell_type": "code",
   "execution_count": 155,
   "id": "hazardous-novel",
   "metadata": {},
   "outputs": [
    {
     "data": {
      "text/plain": [
       "102"
      ]
     },
     "execution_count": 155,
     "metadata": {},
     "output_type": "execute_result"
    }
   ],
   "source": [
    "# Getting the total number of connections\n",
    "connections = int(driver.find_element_by_xpath('//header[@class=\"mn-connections__header\"]').text.split()[0])\n",
    "connections #No. of connections"
   ]
  },
  {
   "cell_type": "code",
   "execution_count": 158,
   "id": "alpine-gasoline",
   "metadata": {
    "scrolled": true
   },
   "outputs": [
    {
     "data": {
      "text/plain": [
       "102"
      ]
     },
     "execution_count": 158,
     "metadata": {},
     "output_type": "execute_result"
    }
   ],
   "source": [
    "# Getting the number of visible connections (html)\n",
    "found_connections = len(driver.find_elements_by_xpath('//div[@class=\"scaffold-finite-scroll__content\"]/ul/li[@class=\"mn-connection-card artdeco-list\"]'))\n",
    "found_connections #No. of found connections"
   ]
  },
  {
   "cell_type": "code",
   "execution_count": 157,
   "id": "third-nebraska",
   "metadata": {},
   "outputs": [],
   "source": [
    "# Scrolling down until the number of visible connections in the page found is equal to the total number of connections\n",
    "while connections > found_connections:\n",
    "    time.sleep(randint(2,4))\n",
    "    driver.execute_script(\"window.scrollTo(0, document.body.scrollHeight);\")\n",
    "    try:\n",
    "        driver.find_element_by_xpath('//button[@class=\"artdeco-button artdeco-button--muted artdeco-button--1 artdeco-button--full artdeco-button--secondary ember-view scaffold-finite-scroll__load-button\"]').click()\n",
    "    except:\n",
    "        pass\n",
    "    time.sleep(randint(2,4))\n",
    "    found_connections = len(driver.find_elements_by_xpath('//div[@class=\"scaffold-finite-scroll__content\"]/ul/li[@class=\"mn-connection-card artdeco-list\"]'))"
   ]
  },
  {
   "cell_type": "code",
   "execution_count": 166,
   "id": "polished-winner",
   "metadata": {
    "scrolled": false
   },
   "outputs": [],
   "source": [
    "# Converting every connection to a DataFrame object\n",
    "names = []\n",
    "descriptions = []\n",
    "\n",
    "job_titles = []\n",
    "companies = []\n",
    "countries = []\n",
    "emails = []\n",
    "\n",
    "\n",
    "database = {'Name': names, 'Description': descriptions}\n",
    "\n",
    "for contact in driver.find_elements_by_class_name('mn-connection-card__details'):\n",
    "    name = contact.find_element_by_xpath('.//span[@class=\"mn-connection-card__name t-16 t-black t-bold\"]').text\n",
    "    description = contact.find_element_by_xpath('.//span[@class=\"mn-connection-card__occupation t-14 t-black--light t-normal\"]').text\n",
    "    \n",
    "    names.append(name)\n",
    "    descriptions.append(description)\n",
    "    \n",
    "    print(name, description)\n",
    "    if name == 'John N., MBA':\n",
    "        contact.find_element_by_xpath('.//span[@class=\"mn-connection-card__name t-16 t-black t-bold\"]').click()\n",
    "        break\n",
    "        \n",
    "    \n"
   ]
  },
  {
   "cell_type": "code",
   "execution_count": 433,
   "id": "choice-fruit",
   "metadata": {},
   "outputs": [
    {
     "data": {
      "text/plain": [
       "(None, None, 'Philippines', None)"
      ]
     },
     "execution_count": 433,
     "metadata": {},
     "output_type": "execute_result"
    }
   ],
   "source": [
    "# Country\n",
    "try:\n",
    "    country = driver.find_element_by_xpath('//div[@class=\"pb2 pv-text-details__left-panel\"]/span[@class=\"text-body-small inline t-black--light break-words\"]').text.split(', ')[-1]\n",
    "except:\n",
    "    country = None\n",
    "    \n",
    "    \n",
    "# Job-title and Company\n",
    "for elem in driver.find_elements_by_class_name('mt4'):\n",
    "    try:\n",
    "        if elem.text.split()[0] == 'Experience':\n",
    "            job_title = elem.find_element_by_xpath('*//div[@class=\"display-flex align-items-center\"]').text.split('\\n')[0]\n",
    "            company = elem.find_element_by_xpath('*//span[@class=\"t-14 t-normal\"]').text.split('\\n')[0].split(' ·')[0]\n",
    "            break\n",
    "    except IndexError:\n",
    "        job_title, company = None, None\n",
    "\n",
    "# Email \n",
    "driver.find_element_by_id('top-card-text-details-contact-info').click()\n",
    "time.sleep(randint(2,4))\n",
    "\n",
    "try:\n",
    "    email = driver.find_element_by_xpath('//section[@class=\"pv-contact-info__contact-type ci-email\"]/div').text\n",
    "except:\n",
    "    email = None\n",
    "\n",
    "driver.find_element_by_css_selector(\"[aria-label=Dismiss]\").click()\n",
    "\n",
    "job_title, company, country, email"
   ]
  },
  {
   "cell_type": "code",
   "execution_count": 422,
   "id": "grateful-designer",
   "metadata": {},
   "outputs": [],
   "source": []
  },
  {
   "cell_type": "code",
   "execution_count": null,
   "id": "relative-mattress",
   "metadata": {},
   "outputs": [],
   "source": []
  },
  {
   "cell_type": "code",
   "execution_count": null,
   "id": "existing-simpson",
   "metadata": {},
   "outputs": [],
   "source": []
  },
  {
   "cell_type": "code",
   "execution_count": null,
   "id": "saved-beads",
   "metadata": {},
   "outputs": [],
   "source": []
  },
  {
   "cell_type": "code",
   "execution_count": null,
   "id": "human-speech",
   "metadata": {
    "scrolled": false
   },
   "outputs": [],
   "source": [
    "# Printing the DataFrame\n",
    "df = pd.DataFrame.from_dict(database)\n",
    "df"
   ]
  },
  {
   "cell_type": "code",
   "execution_count": null,
   "id": "guided-spectrum",
   "metadata": {
    "scrolled": false
   },
   "outputs": [],
   "source": [
    "# Appending new connections info if not found in the csv file\n",
    "with open(database_name+\".csv\", 'r') as read_obj:\n",
    "    csv_reader = reader(read_obj)\n",
    "\n",
    "    for row in df.values.tolist():\n",
    "        if row not in csv_reader:\n",
    "            print('Appending: {}'.format(row)) #New connection\n",
    "            with open (database_name+\".csv\",'a', newline='') as f_object:\n",
    "                writer_object = writer(f_object)\n",
    "                writer_object.writerow(row)\n",
    "                f_object.close()\n",
    "            \n",
    "    read_obj.close()"
   ]
  },
  {
   "cell_type": "code",
   "execution_count": 122,
   "id": "breeding-spoke",
   "metadata": {},
   "outputs": [],
   "source": []
  },
  {
   "cell_type": "code",
   "execution_count": null,
   "id": "small-company",
   "metadata": {},
   "outputs": [],
   "source": []
  },
  {
   "cell_type": "code",
   "execution_count": 435,
   "id": "parliamentary-medicaid",
   "metadata": {},
   "outputs": [],
   "source": [
    "driver.close()"
   ]
  },
  {
   "cell_type": "code",
   "execution_count": null,
   "id": "accessible-ready",
   "metadata": {},
   "outputs": [],
   "source": []
  },
  {
   "cell_type": "code",
   "execution_count": null,
   "id": "suited-browser",
   "metadata": {},
   "outputs": [],
   "source": []
  },
  {
   "cell_type": "code",
   "execution_count": null,
   "id": "informed-dynamics",
   "metadata": {},
   "outputs": [],
   "source": []
  },
  {
   "cell_type": "markdown",
   "id": "synthetic-finland",
   "metadata": {},
   "source": [
    "# MISC"
   ]
  },
  {
   "cell_type": "code",
   "execution_count": null,
   "id": "pediatric-census",
   "metadata": {
    "scrolled": false
   },
   "outputs": [],
   "source": [
    "# #APPENDING NEW VALUES TO DF\n",
    "# nuevo = ['Pancho', 'Ninguna']\n",
    "# nuevo_series = pd.Series(nuevo, index = df.columns)\n",
    "# df = df.append(nuevo_series, ignore_index = True)\n",
    "# df.tail()"
   ]
  }
 ],
 "metadata": {
  "kernelspec": {
   "display_name": "Python 3",
   "language": "python",
   "name": "python3"
  },
  "language_info": {
   "codemirror_mode": {
    "name": "ipython",
    "version": 3
   },
   "file_extension": ".py",
   "mimetype": "text/x-python",
   "name": "python",
   "nbconvert_exporter": "python",
   "pygments_lexer": "ipython3",
   "version": "3.8.5"
  }
 },
 "nbformat": 4,
 "nbformat_minor": 5
}
